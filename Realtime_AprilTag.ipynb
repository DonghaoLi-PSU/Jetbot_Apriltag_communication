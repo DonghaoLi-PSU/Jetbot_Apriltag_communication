{
 "cells": [
  {
   "cell_type": "code",
   "execution_count": null,
   "metadata": {},
   "outputs": [],
   "source": [
    "import paramiko\n",
    "import numpy\n",
    "import time\n",
    "from jetbot import Robot\n",
    "\n",
    "robot = Robot()\n",
    "ssh_client=paramiko.SSHClient()\n",
    "ssh_client.set_missing_host_key_policy(paramiko.AutoAddPolicy())\n",
    "ssh_client.connect('104.39.6.104', username = 'jetbot', password = 'jetbot') # camera\n",
    "\n",
    "# Command the Camerabot to use python3 to run the file trail_move.py, which is programmed for taking an instant image.\n",
    "\n",
    "\n",
    "\n",
    "stdin, stdout, stderr = ssh_client.exec_command(\"python3 Images/apriltag.py 1956 0 561 0 2279 406 0 0 1 15\", get_pty=True)\n",
    "\n",
    "#while True:\n",
    "#    line = stdout.readline()\n",
    "#    if not line:\n",
    "#        break\n",
    "#        print(line,end=\"\")\n",
    "\n",
    "# Print output\n",
    "startprint=False\n",
    "delay =[]\n",
    "for line in iter(stdout.readline, \"\"):\n",
    "\n",
    "    if \"End AprilTag\" in line:\n",
    "        startprint=False\n",
    "\n",
    "    if (startprint == True):\n",
    "        print(line,end=\"\")\n",
    "        #curr = np.array(line[1:-1].split(',')).astype(float)\n",
    "        \n",
    "        #print(time.time()-float(line),end=\"\")\n",
    "        #print(\"\\n\")\n",
    "        #delay.append(time.time()-float(line))\n",
    "        #output = line\n",
    "\n",
    "    if \"Start AprilTag\" in line:\n",
    "        startprint=True\n",
    "        robot.left_motor.value = 0.08\n",
    "        robot.right_motor.value = 0.14\n",
    "        \n",
    "robot.stop()\n",
    "#delay.sort()      \n",
    "#print(delay[-5:])"
   ]
  },
  {
   "cell_type": "code",
   "execution_count": 8,
   "metadata": {},
   "outputs": [],
   "source": [
    "robot.stop()"
   ]
  },
  {
   "cell_type": "code",
   "execution_count": null,
   "metadata": {},
   "outputs": [],
   "source": []
  }
 ],
 "metadata": {
  "kernelspec": {
   "display_name": "Python 3",
   "language": "python",
   "name": "python3"
  },
  "language_info": {
   "codemirror_mode": {
    "name": "ipython",
    "version": 3
   },
   "file_extension": ".py",
   "mimetype": "text/x-python",
   "name": "python",
   "nbconvert_exporter": "python",
   "pygments_lexer": "ipython3",
   "version": "3.6.9"
  }
 },
 "nbformat": 4,
 "nbformat_minor": 5
}
